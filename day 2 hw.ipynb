{
 "cells": [
  {
   "cell_type": "code",
   "execution_count": 3,
   "id": "ed17a6f2-6fa6-42cf-8e52-6f2bbc97d007",
   "metadata": {},
   "outputs": [
    {
     "name": "stdout",
     "output_type": "stream",
     "text": [
      "7\n",
      "7.0\n",
      "(7+0j)\n",
      "7 is <class 'str'>\n",
      "7.0 is <class 'float'>\n",
      "(7+0j) is <class 'complex'>\n"
     ]
    }
   ],
   "source": [
    "k=7\n",
    "k1=str(k)\n",
    "k2=float(k)\n",
    "k3=complex(k)\n",
    "print(k1)\n",
    "print(k2)\n",
    "print(k3)\n",
    "print(k1,\"is\",type(k1))\n",
    "print(k2,\"is\",type(k2))\n",
    "print(k3,\"is\",type(k3))"
   ]
  },
  {
   "cell_type": "code",
   "execution_count": 4,
   "id": "135de8eb-f841-4464-ae1e-90c98ca5639a",
   "metadata": {},
   "outputs": [
    {
     "name": "stdout",
     "output_type": "stream",
     "text": [
      "7\n",
      "7.0\n",
      "(7+0j)\n",
      "7 is <class 'int'>\n",
      "7.0 is <class 'float'>\n",
      "(7+0j) is <class 'complex'>\n"
     ]
    }
   ],
   "source": [
    "k=\"7\"\n",
    "k1=int(k)\n",
    "k2=float(k)\n",
    "k3=complex(k)\n",
    "print(k1)\n",
    "print(k2)\n",
    "print(k3)\n",
    "print(k1,\"is\",type(k1))\n",
    "print(k2,\"is\",type(k2))\n",
    "print(k3,\"is\",type(k3))"
   ]
  },
  {
   "cell_type": "code",
   "execution_count": 6,
   "id": "55077267-175f-4149-ae3d-191b1854cd70",
   "metadata": {},
   "outputs": [
    {
     "name": "stdout",
     "output_type": "stream",
     "text": [
      "hi\n"
     ]
    },
    {
     "name": "stdin",
     "output_type": "stream",
     "text": [
      "enter your name: KUTTRALEESWARAN\n",
      "enter your age 21\n"
     ]
    },
    {
     "name": "stdout",
     "output_type": "stream",
     "text": [
      "My name is KUTTRALEESWARAN ,i'm 21 old.\n"
     ]
    }
   ],
   "source": [
    "print(\"hi\")\n",
    "NAME=str(input(\"enter your name:\"))\n",
    "AGE=int(input(\"enter your age\"))\n",
    "print(\"My name is\",NAME,\",i'm\",AGE,\"old.\")"
   ]
  },
  {
   "cell_type": "code",
   "execution_count": null,
   "id": "c24361cb-9407-4abe-bce1-4c1846446f87",
   "metadata": {},
   "outputs": [],
   "source": []
  }
 ],
 "metadata": {
  "kernelspec": {
   "display_name": "Python 3 (ipykernel)",
   "language": "python",
   "name": "python3"
  },
  "language_info": {
   "codemirror_mode": {
    "name": "ipython",
    "version": 3
   },
   "file_extension": ".py",
   "mimetype": "text/x-python",
   "name": "python",
   "nbconvert_exporter": "python",
   "pygments_lexer": "ipython3",
   "version": "3.12.4"
  }
 },
 "nbformat": 4,
 "nbformat_minor": 5
}
