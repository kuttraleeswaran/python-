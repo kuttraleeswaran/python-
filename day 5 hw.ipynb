{
 "cells": [
  {
   "cell_type": "code",
   "execution_count": 7,
   "id": "525381a6-4728-4e54-a7e1-a0ec02331333",
   "metadata": {},
   "outputs": [
    {
     "name": "stdin",
     "output_type": "stream",
     "text": [
      " enter the number 33\n",
      "enter the number 44\n"
     ]
    }
   ],
   "source": [
    "a=int(input(\" enter the number\"))\n",
    "b=int(input(\"enter the number\"))"
   ]
  },
  {
   "cell_type": "code",
   "execution_count": 8,
   "id": "64baed88-bf98-413b-960b-bcde0157b067",
   "metadata": {},
   "outputs": [
    {
     "name": "stdout",
     "output_type": "stream",
     "text": [
      "77\n",
      "-11\n",
      "1452\n",
      "0.75\n",
      "0\n",
      "33\n",
      "6525493398107157108766697872951317590181876897566395888194243317121\n"
     ]
    }
   ],
   "source": [
    "#arithmetic operators\n",
    "print(a+b)\n",
    "print(a-b)\n",
    "print(a*b)\n",
    "print(a/b)\n",
    "print(a//b)\n",
    "print(a%b)\n",
    "print(a**b)"
   ]
  },
  {
   "cell_type": "code",
   "execution_count": 9,
   "id": "df3fa0c2-19d8-4bb1-8435-7db0abd54a88",
   "metadata": {},
   "outputs": [
    {
     "name": "stdout",
     "output_type": "stream",
     "text": [
      "3\n",
      "15\n",
      "3.0\n",
      "3200000\n",
      "7\n",
      "0\n"
     ]
    }
   ],
   "source": [
    "a=0\n",
    "a+=5\n",
    "a1=5\n",
    "a1-=2\n",
    "a2=3\n",
    "a2*=5\n",
    "a3=15\n",
    "a3/=5\n",
    "a4=20\n",
    "a4**=5\n",
    "a5=35\n",
    "a5//=5\n",
    "a6=35\n",
    "a6%=5\n",
    "print(a1)\n",
    "print(a2)\n",
    "print(a3)\n",
    "print(a4)\n",
    "print(a5)\n",
    "print(a6)"
   ]
  },
  {
   "cell_type": "code",
   "execution_count": 10,
   "id": "dbd6a6fa-00e5-4832-85dd-3ff7ed777178",
   "metadata": {},
   "outputs": [
    {
     "name": "stdout",
     "output_type": "stream",
     "text": [
      "False\n",
      "True\n",
      "False\n",
      "True\n",
      "False\n",
      "True\n"
     ]
    }
   ],
   "source": [
    "a=23\n",
    "b=33\n",
    "print(a==b)\n",
    "print(a<=b)\n",
    "print(a>=b)\n",
    "print(a<b)\n",
    "print(a>b)\n",
    "print(a!=b)"
   ]
  },
  {
   "cell_type": "code",
   "execution_count": null,
   "id": "1d0cd976-49de-433e-ade0-6a1b0000bb34",
   "metadata": {},
   "outputs": [],
   "source": []
  }
 ],
 "metadata": {
  "kernelspec": {
   "display_name": "Python 3 (ipykernel)",
   "language": "python",
   "name": "python3"
  },
  "language_info": {
   "codemirror_mode": {
    "name": "ipython",
    "version": 3
   },
   "file_extension": ".py",
   "mimetype": "text/x-python",
   "name": "python",
   "nbconvert_exporter": "python",
   "pygments_lexer": "ipython3",
   "version": "3.12.4"
  }
 },
 "nbformat": 4,
 "nbformat_minor": 5
}
