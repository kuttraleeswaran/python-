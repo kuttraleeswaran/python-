{
 "cells": [
  {
   "cell_type": "code",
   "execution_count": 1,
   "id": "c6db5d53-8983-4e85-be70-f6d41767721b",
   "metadata": {},
   "outputs": [
    {
     "name": "stdout",
     "output_type": "stream",
     "text": [
      "[1, 2, 3, 4, 5, 6]\n"
     ]
    }
   ],
   "source": [
    "a=[1,2,3]\n",
    "b=[4,5,6]\n",
    "c=a+b\n",
    "print(c)"
   ]
  },
  {
   "cell_type": "code",
   "execution_count": 4,
   "id": "74275542-e03e-4718-9e39-179911aca871",
   "metadata": {},
   "outputs": [
    {
     "name": "stdout",
     "output_type": "stream",
     "text": [
      "['A', 'B', 'C', 'D']\n"
     ]
    }
   ],
   "source": [
    "i1=['A','C','D']\n",
    "i1.insert(1,'B')\n",
    "print(i1)"
   ]
  },
  {
   "cell_type": "code",
   "execution_count": 2,
   "id": "8b3bae1d-6a39-4a5c-b862-69682fdef05e",
   "metadata": {},
   "outputs": [
    {
     "name": "stdin",
     "output_type": "stream",
     "text": [
      "enter a number: 66\n"
     ]
    },
    {
     "name": "stdout",
     "output_type": "stream",
     "text": [
      "[2, 4, 5, 6, 9, 66]\n"
     ]
    }
   ],
   "source": [
    "a1=[2,4,5,6,9]\n",
    "userinput=int(input(\"enter a number:\"))\n",
    "a1.append(userinput)\n",
    "print(a1)"
   ]
  },
  {
   "cell_type": "code",
   "execution_count": null,
   "id": "9fa286b9-a707-4fdd-9238-27a3356953e0",
   "metadata": {},
   "outputs": [],
   "source": []
  }
 ],
 "metadata": {
  "kernelspec": {
   "display_name": "Python 3 (ipykernel)",
   "language": "python",
   "name": "python3"
  },
  "language_info": {
   "codemirror_mode": {
    "name": "ipython",
    "version": 3
   },
   "file_extension": ".py",
   "mimetype": "text/x-python",
   "name": "python",
   "nbconvert_exporter": "python",
   "pygments_lexer": "ipython3",
   "version": "3.12.4"
  }
 },
 "nbformat": 4,
 "nbformat_minor": 5
}
