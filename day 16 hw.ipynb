{
 "cells": [
  {
   "cell_type": "markdown",
   "id": "e302c505-7a45-4a3d-9db9-d5815beaf2b4",
   "metadata": {},
   "source": [
    "SINGLE INHERITENCE"
   ]
  },
  {
   "cell_type": "code",
   "execution_count": 2,
   "id": "cdc69dd2-d4ed-4e72-bbf3-5cf3b885b858",
   "metadata": {},
   "outputs": [
    {
     "name": "stdout",
     "output_type": "stream",
     "text": [
      "University: Anna University\n",
      "Department: Computer Science and Engineering\n",
      "\n",
      "University: Anna University\n",
      "Department: Electrical and Electronics Engineering\n",
      "\n"
     ]
    }
   ],
   "source": [
    "class AnnaUniversity:\n",
    "    def __init__(self):\n",
    "        self.university_name = \"Anna University\"\n",
    "\n",
    "    def display_university(self):\n",
    "        print(f\"University: {self.university_name}\")\n",
    "\n",
    "\n",
    "class Department(AnnaUniversity):\n",
    "    def __init__(self, dept_name):\n",
    "        \n",
    "        self.university_name = \"Anna University\"\n",
    "        self.dept_name = dept_name\n",
    "\n",
    "    def display_department(self):\n",
    "        self.display_university() \n",
    "        print(f\"Department: {self.dept_name}\\n\")\n",
    "\n",
    "\n",
    "cse = Department(\"Computer Science and Engineering\")\n",
    "cse.display_department()\n",
    "\n",
    "eee = Department(\"Electrical and Electronics Engineering\")\n",
    "eee.display_department()\n"
   ]
  },
  {
   "cell_type": "markdown",
   "id": "30409289-5adc-4715-9a68-6e07d6ee37c8",
   "metadata": {},
   "source": [
    "MULTIPLE INHERITENCE"
   ]
  },
  {
   "cell_type": "code",
   "execution_count": 3,
   "id": "355e340e-3aec-4814-b28a-c8335a4fac48",
   "metadata": {},
   "outputs": [
    {
     "name": "stdout",
     "output_type": "stream",
     "text": [
      "University: Anna University\n",
      "Faculty: Dr. Rajesh\n",
      "Department: Computer Science and Engineering\n",
      "\n",
      "University: Anna University\n",
      "Faculty: Dr. Priya\n",
      "Department: Electrical and Electronics Engineering\n",
      "\n"
     ]
    }
   ],
   "source": [
    "\n",
    "class AnnaUniversity:\n",
    "    def __init__(self):\n",
    "        self.university_name = \"Anna University\"\n",
    "\n",
    "    def display_university(self):\n",
    "        print(f\"University: {self.university_name}\")\n",
    "\n",
    "\n",
    "class Faculty:\n",
    "    def __init__(self, faculty_name):\n",
    "        self.faculty_name = faculty_name\n",
    "\n",
    "    def display_faculty(self):\n",
    "        print(f\"Faculty: {self.faculty_name}\")\n",
    "\n",
    "\n",
    "class Department(AnnaUniversity, Faculty):\n",
    "    def __init__(self, dept_name, faculty_name):\n",
    "        AnnaUniversity.__init__(self) \n",
    "        Faculty.__init__(self, faculty_name) \n",
    "        self.dept_name = dept_name\n",
    "\n",
    "    def display_department(self):\n",
    "        self.display_university() \n",
    "        self.display_faculty() \n",
    "        print(f\"Department: {self.dept_name}\\n\")\n",
    "\n",
    "\n",
    "cse = Department(\"Computer Science and Engineering\", \"Dr. Rajesh\")\n",
    "cse.display_department()\n",
    "\n",
    "eee = Department(\"Electrical and Electronics Engineering\", \"Dr. Priya\")\n",
    "eee.display_department()\n"
   ]
  },
  {
   "cell_type": "markdown",
   "id": "ec26f8c4-1da7-42df-9d19-d6c72c0798f2",
   "metadata": {},
   "source": [
    "MULTILEVEL INHERITENCE"
   ]
  },
  {
   "cell_type": "code",
   "execution_count": 4,
   "id": "46dcedb7-2f33-4c9b-953f-248c3b89054d",
   "metadata": {},
   "outputs": [
    {
     "name": "stdout",
     "output_type": "stream",
     "text": [
      "University: Anna University\n",
      "Department: Computer Science and Engineering\n",
      "Student Name: Arun Kumar\n",
      "\n",
      "University: Anna University\n",
      "Department: Electrical and Electronics Engineering\n",
      "Student Name: Priya Sharma\n",
      "\n"
     ]
    }
   ],
   "source": [
    "\n",
    "class AnnaUniversity:\n",
    "    def __init__(self):\n",
    "        self.university_name = \"Anna University\"\n",
    "\n",
    "    def display_university(self):\n",
    "        print(f\"University: {self.university_name}\")\n",
    "\n",
    "\n",
    "class Department(AnnaUniversity):\n",
    "    def __init__(self, dept_name):\n",
    "        super().__init__()  \n",
    "        self.dept_name = dept_name\n",
    "\n",
    "    def display_department(self):\n",
    "        self.display_university() \n",
    "        print(f\"Department: {self.dept_name}\")\n",
    "\n",
    "\n",
    "class Student(Department):\n",
    "    def __init__(self, student_name, dept_name):\n",
    "        super().__init__(dept_name)  \n",
    "        self.student_name = student_name\n",
    "\n",
    "    def display_student(self):\n",
    "        self.display_department()  \n",
    "        print(f\"Student Name: {self.student_name}\\n\")\n",
    "\n",
    "\n",
    "student1 = Student(\"Arun Kumar\", \"Computer Science and Engineering\")\n",
    "student1.display_student()\n",
    "\n",
    "student2 = Student(\"Priya Sharma\", \"Electrical and Electronics Engineering\")\n",
    "student2.display_student()\n"
   ]
  },
  {
   "cell_type": "markdown",
   "id": "3b18c763-46d0-4fdb-848f-f4670c530883",
   "metadata": {},
   "source": [
    "HIERARCHIAL INHERITENCE"
   ]
  },
  {
   "cell_type": "code",
   "execution_count": 5,
   "id": "4bb18485-4d8e-4f1d-aa83-805235009918",
   "metadata": {},
   "outputs": [
    {
     "name": "stdout",
     "output_type": "stream",
     "text": [
      "University: Anna University\n",
      "Department: Computer Science and Engineering\n",
      "\n",
      "University: Anna University\n",
      "Faculty: Dr. Rajesh Kumar\n",
      "\n",
      "University: Anna University\n",
      "Student: Arun Kumar\n",
      "\n"
     ]
    }
   ],
   "source": [
    "\n",
    "class AnnaUniversity:\n",
    "    def __init__(self):\n",
    "        self.university_name = \"Anna University\"\n",
    "\n",
    "    def display_university(self):\n",
    "        print(f\"University: {self.university_name}\")\n",
    "\n",
    "\n",
    "class Department(AnnaUniversity):\n",
    "    def __init__(self, dept_name):\n",
    "        super().__init__()  \n",
    "        self.dept_name = dept_name\n",
    "\n",
    "    def display_department(self):\n",
    "        self.display_university()\n",
    "        print(f\"Department: {self.dept_name}\\n\")\n",
    "\n",
    "\n",
    "class Faculty(AnnaUniversity):\n",
    "    def __init__(self, faculty_name):\n",
    "        super().__init__()\n",
    "        self.faculty_name = faculty_name\n",
    "\n",
    "    def display_faculty(self):\n",
    "        self.display_university()\n",
    "        print(f\"Faculty: {self.faculty_name}\\n\")\n",
    "\n",
    "\n",
    "class Student(AnnaUniversity):\n",
    "    def __init__(self, student_name):\n",
    "        super().__init__()\n",
    "        self.student_name = student_name\n",
    "\n",
    "    def display_student(self):\n",
    "        self.display_university()\n",
    "        print(f\"Student: {self.student_name}\\n\")\n",
    "\n",
    "\n",
    "dept = Department(\"Computer Science and Engineering\")\n",
    "dept.display_department()\n",
    "\n",
    "faculty = Faculty(\"Dr. Rajesh Kumar\")\n",
    "faculty.display_faculty()\n",
    "\n",
    "student = Student(\"Arun Kumar\")\n",
    "student.display_student()\n"
   ]
  },
  {
   "cell_type": "markdown",
   "id": "49ed0208-f8f8-4c94-a790-a313bd8b21f5",
   "metadata": {},
   "source": [
    "HYBRID INHERITENCE"
   ]
  },
  {
   "cell_type": "code",
   "execution_count": 6,
   "id": "dc221c85-8d31-47cb-976c-218ca48b6a26",
   "metadata": {},
   "outputs": [
    {
     "name": "stdout",
     "output_type": "stream",
     "text": [
      "University: Anna University\n",
      "Department: Computer Science and Engineering\n",
      "Faculty: Dr. Rajesh Kumar\n",
      "\n",
      "University: Anna University\n",
      "Department: Computer Science and Engineering\n",
      "Student Name: Arun Kumar\n",
      "\n"
     ]
    }
   ],
   "source": [
    "\n",
    "class AnnaUniversity:\n",
    "    def __init__(self):\n",
    "        self.university_name = \"Anna University\"\n",
    "\n",
    "    def display_university(self):\n",
    "        print(f\"University: {self.university_name}\")\n",
    "\n",
    "\n",
    "class Department(AnnaUniversity):\n",
    "    def __init__(self, dept_name):\n",
    "        super().__init__()  \n",
    "        self.dept_name = dept_name\n",
    "\n",
    "    def display_department(self):\n",
    "        self.display_university()\n",
    "        print(f\"Department: {self.dept_name}\")\n",
    "\n",
    "\n",
    "class Faculty(Department):\n",
    "    def __init__(self, faculty_name, dept_name):\n",
    "        Department.__init__(self, dept_name)  \n",
    "        self.faculty_name = faculty_name\n",
    "\n",
    "    def display_faculty(self):\n",
    "        self.display_department()\n",
    "        print(f\"Faculty: {self.faculty_name}\\n\")\n",
    "\n",
    "\n",
    "class Student(Department):\n",
    "    def __init__(self, student_name, dept_name):\n",
    "        Department.__init__(self, dept_name)  \n",
    "        self.student_name = student_name\n",
    "\n",
    "    def display_student(self):\n",
    "        self.display_department()\n",
    "        print(f\"Student Name: {self.student_name}\\n\")\n",
    "\n",
    "\n",
    "faculty = Faculty(\"Dr. Rajesh Kumar\", \"Computer Science and Engineering\")\n",
    "faculty.display_faculty()\n",
    "\n",
    "student = Student(\"Arun Kumar\", \"Computer Science and Engineering\")\n",
    "student.display_student()\n"
   ]
  },
  {
   "cell_type": "code",
   "execution_count": null,
   "id": "5a02152e-860a-45ff-a867-ba0262865d8b",
   "metadata": {},
   "outputs": [],
   "source": []
  }
 ],
 "metadata": {
  "kernelspec": {
   "display_name": "Python 3 (ipykernel)",
   "language": "python",
   "name": "python3"
  },
  "language_info": {
   "codemirror_mode": {
    "name": "ipython",
    "version": 3
   },
   "file_extension": ".py",
   "mimetype": "text/x-python",
   "name": "python",
   "nbconvert_exporter": "python",
   "pygments_lexer": "ipython3",
   "version": "3.12.4"
  }
 },
 "nbformat": 4,
 "nbformat_minor": 5
}
