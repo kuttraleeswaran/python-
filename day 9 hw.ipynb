{
 "cells": [
  {
   "cell_type": "code",
   "execution_count": 2,
   "id": "77e075b7-f663-4f5d-9fa8-f3eef86f834d",
   "metadata": {},
   "outputs": [
    {
     "name": "stdout",
     "output_type": "stream",
     "text": [
      "[1, 2, 5, 34, 34, 45, 65, 76543]\n",
      "[76543, 65, 45, 34, 34, 5, 2, 1]\n",
      "[76543, 65, 45, 34, 34, 5, 2, 1]\n"
     ]
    }
   ],
   "source": [
    "list1=[1,34,5,65,76543,2,34,45]\n",
    "list1.sort()\n",
    "print(list1)\n",
    "list1.reverse()\n",
    "print(list1)\n",
    "fake_list=list1.copy()\n",
    "print(fake_list)"
   ]
  },
  {
   "cell_type": "code",
   "execution_count": null,
   "id": "a76fd46b-3339-42da-8b68-3076c61a563f",
   "metadata": {},
   "outputs": [],
   "source": []
  }
 ],
 "metadata": {
  "kernelspec": {
   "display_name": "Python 3 (ipykernel)",
   "language": "python",
   "name": "python3"
  },
  "language_info": {
   "codemirror_mode": {
    "name": "ipython",
    "version": 3
   },
   "file_extension": ".py",
   "mimetype": "text/x-python",
   "name": "python",
   "nbconvert_exporter": "python",
   "pygments_lexer": "ipython3",
   "version": "3.12.4"
  }
 },
 "nbformat": 4,
 "nbformat_minor": 5
}
