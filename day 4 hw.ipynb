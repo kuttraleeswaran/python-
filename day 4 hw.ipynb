{
 "cells": [
  {
   "cell_type": "code",
   "execution_count": 23,
   "id": "2e99f68d-549a-42e0-80a3-465bd74d87a1",
   "metadata": {},
   "outputs": [
    {
     "name": "stdout",
     "output_type": "stream",
     "text": [
      "My name is kuttraleeswarn,im 21.\n"
     ]
    }
   ],
   "source": [
    "#capitalize\n",
    "txt = \"my name is kuttraleeswarn,im 21.\"\n",
    "x = txt.capitalize()\n",
    "print (x)"
   ]
  },
  {
   "cell_type": "code",
   "execution_count": 24,
   "id": "720702c9-bfbd-4f07-85fe-450e4732898f",
   "metadata": {},
   "outputs": [
    {
     "name": "stdout",
     "output_type": "stream",
     "text": [
      "hello, and welcome to the class\n"
     ]
    }
   ],
   "source": [
    "#casefold\n",
    "txt = \"Hello, And Welcome To The Class\"\n",
    "x = txt.casefold()\n",
    "print(x)"
   ]
  },
  {
   "cell_type": "code",
   "execution_count": 25,
   "id": "c10935dd-2a60-43fc-9c9c-d1f69cf45fb3",
   "metadata": {},
   "outputs": [
    {
     "name": "stdout",
     "output_type": "stream",
     "text": [
      "       kuttra       \n",
      "20\n",
      "_______kuttra_______\n",
      "20\n"
     ]
    }
   ],
   "source": [
    "#center\n",
    "txt = \"kuttra\"\n",
    "x = txt.center(20)\n",
    "x1 = txt.center(20, \"_\")\n",
    "print(x)\n",
    "print(len(x))\n",
    "print(x1)\n",
    "print(len(x1))"
   ]
  },
  {
   "cell_type": "code",
   "execution_count": 26,
   "id": "257084ee-2fc3-40c1-8c3d-216db7031cff",
   "metadata": {},
   "outputs": [
    {
     "name": "stdout",
     "output_type": "stream",
     "text": [
      "3\n",
      "1\n"
     ]
    }
   ],
   "source": [
    "#count\n",
    "txt = \"A mathematician can mathematize mathematics mathematically so if a mathematician can mathamatize mathematics mathematically, why can't i mathematize mathematics mathematically like a mathematician mathematize mathematics mathematically\"\n",
    "x = txt.count(\"mathematician\")\n",
    "x1 = txt.count(\"can\", 10, 45)\n",
    "print(x)\n",
    "print(x1)"
   ]
  },
  {
   "cell_type": "code",
   "execution_count": 27,
   "id": "63b96a0d-bf5f-4129-abf2-794a0ebeaece",
   "metadata": {},
   "outputs": [
    {
     "name": "stdout",
     "output_type": "stream",
     "text": [
      "kuTTraLEesWAraN\n"
     ]
    }
   ],
   "source": [
    "#swapcase\n",
    "txt = \"KUttRAleESwaRAn\"\n",
    "x = txt.swapcase()\n",
    "print(x)"
   ]
  },
  {
   "cell_type": "code",
   "execution_count": 28,
   "id": "28517bb1-7e9d-4b8e-84b9-adefcb427b6f",
   "metadata": {},
   "outputs": [
    {
     "name": "stdout",
     "output_type": "stream",
     "text": [
      "('I am ', 'kuttraleeswaran', ',im 21')\n",
      "('I am kuttraleeswaran,im 21', '', '')\n"
     ]
    }
   ],
   "source": [
    "#Partition\n",
    "txt = \"I am kuttraleeswaran,im 21\"\n",
    "x = txt.partition(\"kuttraleeswaran\")\n",
    "x1= txt.partition(\"ram\")\n",
    "print(x)\n",
    "print(x1)"
   ]
  },
  {
   "cell_type": "code",
   "execution_count": 29,
   "id": "145f5a1c-7fe7-4980-b575-2628b9b9ab59",
   "metadata": {},
   "outputs": [
    {
     "name": "stdout",
     "output_type": "stream",
     "text": [
      "['A', 'mathematician', 'can', 'mathematize', 'mathematics', 'mathematically', 'so', 'if', 'a', 'mathematician', 'can', 'mathamatize', 'mathematics', 'mathematically,', 'why', \"can't\", 'i', 'mathematize', 'mathematics', 'mathematically', 'like', 'a', 'mathematician', 'mathematize', 'mathematics', 'mathematically']\n",
      "['A ', 'athe', 'atician can ', 'athe', 'atize ', 'athe', 'atics ', 'athe', 'atically so if a ', 'athe', 'atician can ', 'atha', 'atize ', 'athe', 'atics ', 'athe', \"atically, why can't i \", 'athe', 'atize ', 'athe', 'atics ', 'athe', 'atically like a ', 'athe', 'atician ', 'athe', 'atize ', 'athe', 'atics ', 'athe', 'atically']\n"
     ]
    }
   ],
   "source": [
    "#split\n",
    "txt = \"A mathematician can mathematize mathematics mathematically so if a mathematician can mathamatize mathematics mathematically, why can't i mathematize mathematics mathematically like a mathematician mathematize mathematics mathematically\"\n",
    "x = txt.split()\n",
    "x1= txt.split(\"m\")\n",
    "print(x)\n",
    "print(x1)\n"
   ]
  },
  {
   "cell_type": "code",
   "execution_count": null,
   "id": "f44ed340-602f-4dc9-a8dc-908281afc261",
   "metadata": {},
   "outputs": [],
   "source": []
  }
 ],
 "metadata": {
  "kernelspec": {
   "display_name": "Python 3 (ipykernel)",
   "language": "python",
   "name": "python3"
  },
  "language_info": {
   "codemirror_mode": {
    "name": "ipython",
    "version": 3
   },
   "file_extension": ".py",
   "mimetype": "text/x-python",
   "name": "python",
   "nbconvert_exporter": "python",
   "pygments_lexer": "ipython3",
   "version": "3.12.7"
  }
 },
 "nbformat": 4,
 "nbformat_minor": 5
}
