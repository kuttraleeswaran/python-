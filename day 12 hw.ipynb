{
 "cells": [
  {
   "cell_type": "code",
   "execution_count": 16,
   "id": "1f413f05-c8f0-465a-a2f3-c3f76253deda",
   "metadata": {},
   "outputs": [
    {
     "name": "stdout",
     "output_type": "stream",
     "text": [
      "5 is the second smallest number in the list\n",
      "7  is the second largest number in the list\n"
     ]
    }
   ],
   "source": [
    "l=[6,7,8,4,5]\n",
    "for i in range(len(l)):\n",
    "    for j in range(len(l)):\n",
    "        #print(l[i],\"<=\",l[j])\n",
    "        if l[i]<=l[j]:\n",
    "            l[i],l[j]=l[j],l[i]\n",
    "print(l[1],\"is the second smallest number in the list\")\n",
    "print(l[-2],\"is the second largest number in the list\")"
   ]
  },
  {
   "cell_type": "code",
   "execution_count": 17,
   "id": "2fa3e5e4-ba1c-4df0-a6f9-036da52e5cf3",
   "metadata": {},
   "outputs": [
    {
     "name": "stdout",
     "output_type": "stream",
     "text": [
      "[4, 5, 6, 7, 8]\n"
     ]
    }
   ],
   "source": [
    "l=[6,7,8,4,5]\n",
    "for i in range(len(l)):\n",
    "    for j in range(len(l)):\n",
    "        #print(l[i],\"<=\",l[j])\n",
    "        if l[i]<=l[j]:\n",
    "            l[i],l[j]=l[j],l[i]\n",
    "print(l)"
   ]
  },
  {
   "cell_type": "code",
   "execution_count": 19,
   "id": "7e6b82b1-8a8e-438c-8faa-28c5a01c8be8",
   "metadata": {},
   "outputs": [
    {
     "name": "stdout",
     "output_type": "stream",
     "text": [
      "[8, 7, 6, 5, 4]\n"
     ]
    }
   ],
   "source": [
    "l=[6,7,8,4,5]\n",
    "for i in range(len(l)):\n",
    "    for j in range(len(l)):\n",
    "        #print(l[i],\"<=\",l[j])\n",
    "        if l[i]>=l[j]:\n",
    "            l[i],l[j]=l[j],l[i]\n",
    "print(l)"
   ]
  },
  {
   "cell_type": "code",
   "execution_count": 1,
   "id": "d094a9b0-0127-4bc0-9673-801683b916d9",
   "metadata": {},
   "outputs": [
    {
     "name": "stdin",
     "output_type": "stream",
     "text": [
      "Enter a number: 12\n"
     ]
    },
    {
     "name": "stdout",
     "output_type": "stream",
     "text": [
      "           *\n",
      "          ***\n",
      "         *****\n",
      "        *******\n",
      "       *********\n",
      "      ***********\n",
      "     *************\n",
      "    ***************\n",
      "   *****************\n",
      "  *******************\n",
      " *********************\n",
      "***********************\n"
     ]
    }
   ],
   "source": [
    "n=int(input(\"Enter a number:\"))\n",
    "for i in range(1, n + 1):\n",
    "        for j in range(n - i):\n",
    "            print(\" \", end=\"\")\n",
    "        for k in range(1, 2*i):\n",
    "            print(\"*\", end=\"\")\n",
    "        print()\n",
    "    "
   ]
  },
  {
   "cell_type": "code",
   "execution_count": 2,
   "id": "99344029-8adf-4027-a0cc-c5963f1f5f20",
   "metadata": {},
   "outputs": [
    {
     "name": "stdin",
     "output_type": "stream",
     "text": [
      "Enter a number: 22\n"
     ]
    },
    {
     "name": "stdout",
     "output_type": "stream",
     "text": [
      "                     \n",
      "                    *\n",
      "                   **\n",
      "                  ***\n",
      "                 ****\n",
      "                *****\n",
      "               ******\n",
      "              *******\n",
      "             ********\n",
      "            *********\n",
      "           **********\n",
      "          ***********\n",
      "         ************\n",
      "        *************\n",
      "       **************\n",
      "      ***************\n",
      "     ****************\n",
      "    *****************\n",
      "   ******************\n",
      "  *******************\n",
      " ********************\n",
      "*********************\n"
     ]
    }
   ],
   "source": [
    "n=int(input(\"Enter a number:\"))\n",
    "for i in range(1, n + 1):\n",
    "        for j in range(n - i):\n",
    "            print(\" \", end=\"\")\n",
    "        for k in range(1,i):\n",
    "            print(\"*\", end=\"\")\n",
    "        print()"
   ]
  },
  {
   "cell_type": "code",
   "execution_count": 3,
   "id": "35569036-3c31-4592-bb9d-8a7e3a992267",
   "metadata": {},
   "outputs": [
    {
     "name": "stdin",
     "output_type": "stream",
     "text": [
      "Enter a number: 14\n"
     ]
    },
    {
     "name": "stdout",
     "output_type": "stream",
     "text": [
      "             \n",
      "*            \n",
      "**           \n",
      "***          \n",
      "****         \n",
      "*****        \n",
      "******       \n",
      "*******      \n",
      "********     \n",
      "*********    \n",
      "**********   \n",
      "***********  \n",
      "************ \n",
      "*************\n"
     ]
    }
   ],
   "source": [
    "n=int(input(\"Enter a number:\"))\n",
    "for i in range(1, n + 1):\n",
    "    for k in range(1,i):\n",
    "        print(\"*\",end=\"\")\n",
    "    for j in range(n - i):\n",
    "        print(\" \",end=\"\")\n",
    "    print()"
   ]
  },
  {
   "cell_type": "code",
   "execution_count": null,
   "id": "2ba3b97a-587a-47be-96f4-95744e696747",
   "metadata": {},
   "outputs": [],
   "source": []
  }
 ],
 "metadata": {
  "kernelspec": {
   "display_name": "Python 3 (ipykernel)",
   "language": "python",
   "name": "python3"
  },
  "language_info": {
   "codemirror_mode": {
    "name": "ipython",
    "version": 3
   },
   "file_extension": ".py",
   "mimetype": "text/x-python",
   "name": "python",
   "nbconvert_exporter": "python",
   "pygments_lexer": "ipython3",
   "version": "3.12.4"
  }
 },
 "nbformat": 4,
 "nbformat_minor": 5
}
