{
 "cells": [
  {
   "cell_type": "code",
   "execution_count": 1,
   "id": "4eabec75-f33e-4a22-b277-c21a2a414c63",
   "metadata": {},
   "outputs": [
    {
     "name": "stdout",
     "output_type": "stream",
     "text": [
      " Hi, I'm Kuttraleeswaran \n"
     ]
    }
   ],
   "source": [
    "print(\" Hi, I'm Kuttraleeswaran \")"
   ]
  },
  {
   "cell_type": "code",
   "execution_count": 6,
   "id": "96a30ebf-fbdf-4be4-877c-b5ae7cf905fe",
   "metadata": {},
   "outputs": [
    {
     "name": "stdout",
     "output_type": "stream",
     "text": [
      "Sum of these numbers(8+2+3+4-5-6-1+11) is : 16\n",
      "product of 8*7 is: 56\n"
     ]
    }
   ],
   "source": [
    "print(\"Sum of these numbers(8+2+3+4-5-6-1+11) is :\", 8+2+3+4-5-6-1+11)\n",
    "\n",
    "print(\"product of 8*7 is:\",8*7)"
   ]
  },
  {
   "cell_type": "code",
   "execution_count": 1,
   "id": "0495a44c-1234-4c38-8ae0-e5081a928d1c",
   "metadata": {},
   "outputs": [
    {
     "name": "stdout",
     "output_type": "stream",
     "text": [
      "      *\n",
      "     * *\n",
      "    * * *\n",
      "   * * * *\n",
      "  * * * * *\n",
      " * * * * * *\n"
     ]
    }
   ],
   "source": [
    "print(\"      *\")\n",
    "print(\"     * *\")\n",
    "print(\"    * * *\")\n",
    "print(\"   * * * *\")\n",
    "print(\"  * * * * *\")\n",
    "print(\" * * * * * *\")\n"
   ]
  },
  {
   "cell_type": "code",
   "execution_count": 16,
   "id": "4bfd4fc7-afaa-4727-9f67-2a4822928a51",
   "metadata": {},
   "outputs": [
    {
     "name": "stdout",
     "output_type": "stream",
     "text": [
      " Bunny\n",
      " (\\_/)\n",
      " (*.*)\n",
      " />hi  \n"
     ]
    },
    {
     "name": "stderr",
     "output_type": "stream",
     "text": [
      "<>:2: SyntaxWarning: invalid escape sequence '\\_'\n",
      "<>:2: SyntaxWarning: invalid escape sequence '\\_'\n",
      "C:\\Users\\kuttr\\AppData\\Local\\Temp\\ipykernel_14152\\3007042701.py:2: SyntaxWarning: invalid escape sequence '\\_'\n",
      "  print(\" (\\_/)\")\n"
     ]
    }
   ],
   "source": [
    "print(\" Bunny\")\n",
    "print(\" (\\_/)\")\n",
    "print(\" (*.*)\")\n",
    "print(\" />hi  \")"
   ]
  },
  {
   "cell_type": "code",
   "execution_count": 21,
   "id": "28aa130e-e4fa-441d-9103-a0fab10bb3e2",
   "metadata": {},
   "outputs": [
    {
     "name": "stdout",
     "output_type": "stream",
     "text": [
      "kuttraleeswaran,\n",
      "vignesh\n"
     ]
    }
   ],
   "source": [
    "print(\"kuttraleeswaran,\\nvignesh\" )\n"
   ]
  },
  {
   "cell_type": "code",
   "execution_count": 25,
   "id": "a0b3cb1d-6e02-45c2-8fcf-0eec909a875c",
   "metadata": {},
   "outputs": [
    {
     "name": "stdout",
     "output_type": "stream",
     "text": [
      "seeman\teshwar\n"
     ]
    }
   ],
   "source": [
    "print(\"seeman\\teshwar\")"
   ]
  },
  {
   "cell_type": "code",
   "execution_count": 26,
   "id": "f5e9914f-8315-41de-bd45-e20964fbc189",
   "metadata": {},
   "outputs": [
    {
     "name": "stdout",
     "output_type": "stream",
     "text": [
      "eshwar\n"
     ]
    }
   ],
   "source": [
    "print(\"seeman\\reshwar\")"
   ]
  },
  {
   "cell_type": "code",
   "execution_count": null,
   "id": "f3ed5c0d-bcf8-4886-a981-9f221d25c4cf",
   "metadata": {},
   "outputs": [],
   "source": []
  }
 ],
 "metadata": {
  "kernelspec": {
   "display_name": "Python 3 (ipykernel)",
   "language": "python",
   "name": "python3"
  },
  "language_info": {
   "codemirror_mode": {
    "name": "ipython",
    "version": 3
   },
   "file_extension": ".py",
   "mimetype": "text/x-python",
   "name": "python",
   "nbconvert_exporter": "python",
   "pygments_lexer": "ipython3",
   "version": "3.12.7"
  }
 },
 "nbformat": 4,
 "nbformat_minor": 5
}
