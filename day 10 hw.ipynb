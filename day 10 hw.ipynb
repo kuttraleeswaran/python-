{
 "cells": [
  {
   "cell_type": "markdown",
   "id": "b9bc5305-1a81-41a3-a434-8573426715f5",
   "metadata": {},
   "source": [
    "1.Write a function that takes a list and a number as input and appends the number to the list."
   ]
  },
  {
   "cell_type": "code",
   "execution_count": 2,
   "id": "01c91f6f-ab52-4163-955b-2840f6787f41",
   "metadata": {},
   "outputs": [
    {
     "name": "stdin",
     "output_type": "stream",
     "text": [
      "enter a number: 44\n"
     ]
    },
    {
     "name": "stdout",
     "output_type": "stream",
     "text": [
      "[1, 2, 3, 4, 5, 55, 66, 76, 85, 901, 44]\n"
     ]
    }
   ],
   "source": [
    "my_list=[1,2,3,4,5,55,66,76,85,901]\n",
    "a=int(input(\"enter a number:\"))\n",
    "my_list.append(a)\n",
    "print(my_list)"
   ]
  },
  {
   "cell_type": "markdown",
   "id": "605991d5-50dc-4e47-82e8-9777fd6aaa73",
   "metadata": {},
   "source": [
    "2.Write a function that takes two lists and extends the first list with the second list."
   ]
  },
  {
   "cell_type": "code",
   "execution_count": 6,
   "id": "7c765495-ec16-4bc5-956e-4d6111f0d00c",
   "metadata": {},
   "outputs": [
    {
     "name": "stdout",
     "output_type": "stream",
     "text": [
      "[12, 23, 94, 54, 76, 87, 33, 44, 55, 66, 77, 88]\n"
     ]
    }
   ],
   "source": [
    "list_1=[12,23,94,54,76,87]\n",
    "list_2=[33,44,55,66,77,88]\n",
    "list_1.extend(list_2)\n",
    "print(list_1)"
   ]
  },
  {
   "cell_type": "markdown",
   "id": "8fab9802-672b-4525-9a26-b258af35ad79",
   "metadata": {},
   "source": [
    "3.Write a function that inserts an element at a specified index in a list."
   ]
  },
  {
   "cell_type": "code",
   "execution_count": 7,
   "id": "66e6d69e-079f-4f6f-9ce0-6bdb3f38e015",
   "metadata": {},
   "outputs": [
    {
     "name": "stdout",
     "output_type": "stream",
     "text": [
      "[33, 44, 55, 66, 999, 77, 88]\n"
     ]
    }
   ],
   "source": [
    "list_2=[33,44,55,66,77,88]\n",
    "list_2.insert(4,999)\n",
    "print(list_2)"
   ]
  },
  {
   "cell_type": "markdown",
   "id": "29d6498c-4c2c-48e9-90c1-4d4d28ba23ab",
   "metadata": {},
   "source": [
    "4.Write a function that adds an element to a set."
   ]
  },
  {
   "cell_type": "code",
   "execution_count": 9,
   "id": "4c94efd4-8030-4927-864c-4e2d54a3c954",
   "metadata": {},
   "outputs": [
    {
     "name": "stdout",
     "output_type": "stream",
     "text": [
      "{33, 66, 22, 55, 44, 77}\n"
     ]
    }
   ],
   "source": [
    "set={22,33,44,55,66}\n",
    "set.add(77)\n",
    "print(set)"
   ]
  },
  {
   "cell_type": "markdown",
   "id": "e8d949bb-c794-41ab-8e66-6c20ad72d10c",
   "metadata": {},
   "source": [
    "5.Write a function that updates a dictionary with a new key-value pair."
   ]
  },
  {
   "cell_type": "code",
   "execution_count": 14,
   "id": "f43e4dc3-7901-4ab4-86e7-8afb814e459e",
   "metadata": {},
   "outputs": [
    {
     "name": "stdout",
     "output_type": "stream",
     "text": [
      "{'a': 1, 'b': 2, 'c': 3}\n"
     ]
    }
   ],
   "source": [
    "dict={\"a\":1,\"b\":2}\n",
    "dict[\"c\"]=3\n",
    "print(dict)"
   ]
  }
 ],
 "metadata": {
  "kernelspec": {
   "display_name": "Python 3 (ipykernel)",
   "language": "python",
   "name": "python3"
  },
  "language_info": {
   "codemirror_mode": {
    "name": "ipython",
    "version": 3
   },
   "file_extension": ".py",
   "mimetype": "text/x-python",
   "name": "python",
   "nbconvert_exporter": "python",
   "pygments_lexer": "ipython3",
   "version": "3.12.4"
  }
 },
 "nbformat": 4,
 "nbformat_minor": 5
}
