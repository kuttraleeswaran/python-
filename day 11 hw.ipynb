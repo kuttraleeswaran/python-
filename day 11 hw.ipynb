{
 "cells": [
  {
   "cell_type": "code",
   "execution_count": 1,
   "id": "f66e0304-fe96-4baa-87c1-43f782361ce6",
   "metadata": {},
   "outputs": [
    {
     "name": "stdout",
     "output_type": "stream",
     "text": [
      "myset: {'b', 1, 2, 3, 'a', 'c'}\n",
      "ss: {'b', 1, 2, 3, 'a', 'c'}\n"
     ]
    }
   ],
   "source": [
    "set1 = {\"a\", \"b\", \"c\"}\n",
    "set2 = {1, 2, 3}\n",
    "\n",
    "myset = set1.union(set2)\n",
    "print(\"myset:\",myset)\n",
    "\n",
    "ss=set1|set2\n",
    "print(\"ss:\",ss)"
   ]
  },
  {
   "cell_type": "code",
   "execution_count": 2,
   "id": "6fc4119f-98cc-41ab-9a22-5644cabf619f",
   "metadata": {},
   "outputs": [
    {
     "name": "stdout",
     "output_type": "stream",
     "text": [
      "set3 {2, 3, 'apple', 44, 55}\n",
      "sa {2, 3, 'apple', 44, 55}\n",
      "set1 {2, 3, 'apple', 44, 55}\n"
     ]
    }
   ],
   "source": [
    "set1 = {\"apple\", \"banana\", \"cherry\",2,3,44,55}\n",
    "set2 = {2,3,44,55,678,234,908,\"apple\",\"orange\",\"apple\"}\n",
    "\n",
    "set3=set1.intersection(set2)\n",
    "print(\"set3\",set3)\n",
    "\n",
    "sa=set1&set2\n",
    "print(\"sa\",sa)\n",
    "\n",
    "set1.intersection_update(set2)\n",
    "print(\"set1\",set1)"
   ]
  },
  {
   "cell_type": "code",
   "execution_count": 3,
   "id": "357ab599-3a5c-45f0-a0f3-db9d66dd6bd5",
   "metadata": {},
   "outputs": [
    {
     "name": "stdout",
     "output_type": "stream",
     "text": [
      "se {33, 26, 'banana', 'cherry'}\n",
      "set3 {33, 26, 'banana', 'cherry'}\n",
      "set1 {33, 'cherry', 'banana', 26}\n"
     ]
    }
   ],
   "source": [
    "set1 = {\"apple\", \"banana\", \"cherry\",33,44,26,\"2ef\"}\n",
    "set2 = {\"google\", \"microsoft\", \"apple\",\"2ef\",44}\n",
    "\n",
    "set3 = set1.difference(set2)\n",
    "se=set1-set2\n",
    "print(\"se\",se)\n",
    "print(\"set3\",set3)\n",
    "\n",
    "set1.difference_update(set2)\n",
    "print(\"set1\",set1)"
   ]
  },
  {
   "cell_type": "code",
   "execution_count": 4,
   "id": "2e976e49-1363-4621-8c58-a9d084b1cbd4",
   "metadata": {},
   "outputs": [
    {
     "name": "stdout",
     "output_type": "stream",
     "text": [
      "sd {'google', 'chevy', 'cherry', 'banana', 'hummer', 'pandi'}\n",
      "set3 {'google', 'chevy', 'cherry', 'banana', 'hummer', 'pandi'}\n",
      "set1 {'google', 'chevy', 'cherry', 'banana', 'hummer', 'pandi'}\n"
     ]
    }
   ],
   "source": [
    "set1 = {\"apple\", \"banana\", \"cherry\",\"ford\",\"hummer\"}\n",
    "set2 = {\"google\", \"pandi\", \"apple\",\"chevy\",\"ford\"}\n",
    "\n",
    "set3 = set1.symmetric_difference(set2)\n",
    "\n",
    "sd=set1^set2\n",
    "print(\"sd\",sd)\n",
    "print(\"set3\",set3)\n",
    "\n",
    "set1.symmetric_difference_update(set2)\n",
    "print(\"set1\",set1)"
   ]
  },
  {
   "cell_type": "code",
   "execution_count": 5,
   "id": "4b8cf1f4-9f44-4196-9d19-96b5d5c9e744",
   "metadata": {},
   "outputs": [
    {
     "data": {
      "text/plain": [
       "{'brand': 'Ford', 'model': 'Mustang', 'year': 1964}"
      ]
     },
     "execution_count": 5,
     "metadata": {},
     "output_type": "execute_result"
    }
   ],
   "source": [
    "mydict = {\"brand\": \"Ford\",\"model\": \"Mustang\",\"year\": 1964}\n",
    "mydict"
   ]
  },
  {
   "cell_type": "code",
   "execution_count": 6,
   "id": "fa0e0731-de96-4a6f-9eda-2b644ed06b1c",
   "metadata": {},
   "outputs": [
    {
     "name": "stdout",
     "output_type": "stream",
     "text": [
      "{'brand': 'Ford', 'model': 'Mustang', 'year': 1964, 'version': 'v 2.0'}\n"
     ]
    }
   ],
   "source": [
    "mydict = {\"brand\": \"Ford\",\"model\": \"Mustang\",\"year\": 1964}\n",
    "mydict[\"version\"]=\"v 2.0\"\n",
    "print(mydict)\n",
    "mydict[\"brand\"]=\"cheverlotte\""
   ]
  },
  {
   "cell_type": "code",
   "execution_count": 7,
   "id": "ce127455-c188-45d5-bcde-c8560e833e72",
   "metadata": {},
   "outputs": [
    {
     "data": {
      "text/plain": [
       "'cheverlotte'"
      ]
     },
     "execution_count": 7,
     "metadata": {},
     "output_type": "execute_result"
    }
   ],
   "source": [
    "mydict[\"brand\"]"
   ]
  },
  {
   "cell_type": "code",
   "execution_count": 8,
   "id": "3fab0542-c612-4c3c-8e06-588c59ddec81",
   "metadata": {},
   "outputs": [
    {
     "name": "stdout",
     "output_type": "stream",
     "text": [
      "4\n"
     ]
    }
   ],
   "source": [
    "print(len(mydict))"
   ]
  },
  {
   "cell_type": "code",
   "execution_count": 9,
   "id": "d1f36212-08ab-40f8-8152-061142e2cba1",
   "metadata": {},
   "outputs": [
    {
     "data": {
      "text/plain": [
       "{'child1': {'name': 'Emil', 'year': 2004},\n",
       " 'child2': {'name': 'Tobias', 'year': 2007},\n",
       " 'child3': {'name': 'Linus', 'year': 2011}}"
      ]
     },
     "execution_count": 9,
     "metadata": {},
     "output_type": "execute_result"
    }
   ],
   "source": [
    "myfamily = {\"child1\" : {\"name\" : \"Emil\",\"year\" : 2004 },\"child2\" : {\"name\" : \"Tobias\",\"year\" : 2007},\"child3\" : {\"name\" : \"Linus\",\"year\" : 2011}}\n",
    "\n",
    "myfamily"
   ]
  },
  {
   "cell_type": "code",
   "execution_count": 10,
   "id": "9d026e5a-23d5-4f78-9290-064f5a25a8b5",
   "metadata": {},
   "outputs": [
    {
     "data": {
      "text/plain": [
       "{'name': 'Emil', 'year': 2004}"
      ]
     },
     "execution_count": 10,
     "metadata": {},
     "output_type": "execute_result"
    }
   ],
   "source": [
    "myfamily[\"child1\"]"
   ]
  },
  {
   "cell_type": "code",
   "execution_count": 11,
   "id": "2a8be6f4-a9b7-4c92-856e-dcfb88e3ef44",
   "metadata": {},
   "outputs": [
    {
     "data": {
      "text/plain": [
       "'Emil'"
      ]
     },
     "execution_count": 11,
     "metadata": {},
     "output_type": "execute_result"
    }
   ],
   "source": [
    "myfamily[\"child1\"][\"name\"]"
   ]
  },
  {
   "cell_type": "code",
   "execution_count": 12,
   "id": "08c2cf9d-4d4f-4391-bd5a-54f06d743ea8",
   "metadata": {},
   "outputs": [],
   "source": [
    "student1 = {\n",
    "  \"name\" : \"kuttralees\",\n",
    "  \"year\" : 2003\n",
    "}\n",
    "\n",
    "\n",
    "\n",
    "student2 = {\n",
    "  \"name\" : \"pandi\",\n",
    "  \"year\" : 2003\n",
    "}\n",
    "\n",
    "\n",
    "student3 = {\n",
    "  \"name\" : \"annie\",\n",
    "  \"year\" : 2004\n",
    "}\n",
    "\n",
    "frnds = {\n",
    "  \"student1\" : student1,\n",
    "  \"student2\" : student2,\n",
    "  \"student3\" : student3\n",
    "}"
   ]
  },
  {
   "cell_type": "code",
   "execution_count": 13,
   "id": "2d3e75e5-2c5c-4464-acfd-751cc4cb9911",
   "metadata": {},
   "outputs": [
    {
     "data": {
      "text/plain": [
       "dict_values([{'name': 'kuttralees', 'year': 2003}, {'name': 'pandi', 'year': 2003}, {'name': 'annie', 'year': 2004}])"
      ]
     },
     "execution_count": 13,
     "metadata": {},
     "output_type": "execute_result"
    }
   ],
   "source": [
    "frnds.values()"
   ]
  },
  {
   "cell_type": "code",
   "execution_count": 14,
   "id": "63aeb846-1aa3-46c6-83ee-65ff8699d268",
   "metadata": {},
   "outputs": [
    {
     "data": {
      "text/plain": [
       "dict_keys(['student1', 'student2', 'student3'])"
      ]
     },
     "execution_count": 14,
     "metadata": {},
     "output_type": "execute_result"
    }
   ],
   "source": [
    "frnds.keys()"
   ]
  },
  {
   "cell_type": "code",
   "execution_count": 15,
   "id": "9470707e-507b-4eea-933f-591a0b781553",
   "metadata": {},
   "outputs": [
    {
     "name": "stdout",
     "output_type": "stream",
     "text": [
      "name\n",
      "year\n"
     ]
    }
   ],
   "source": [
    "student1 = {\n",
    "  \"name\" : \"kuttralees\",\n",
    "  \"year\" : 2003\n",
    "}\n",
    "for i in student1:\n",
    "    print(i)"
   ]
  },
  {
   "cell_type": "code",
   "execution_count": 16,
   "id": "7d668b01-67dc-4f78-a943-88c9bcc24002",
   "metadata": {},
   "outputs": [
    {
     "name": "stdout",
     "output_type": "stream",
     "text": [
      "('name', 'kuttralees')\n",
      "('year', 2003)\n"
     ]
    }
   ],
   "source": [
    "student1 = {\"name\" : \"kuttralees\",\"year\" : 2003}\n",
    "for i in student1.items():\n",
    "    print(i)"
   ]
  },
  {
   "cell_type": "code",
   "execution_count": 17,
   "id": "78bcf70b-d7b1-4722-b387-137fcac8613b",
   "metadata": {},
   "outputs": [
    {
     "name": "stdout",
     "output_type": "stream",
     "text": [
      "name\n",
      "year\n"
     ]
    }
   ],
   "source": [
    "student1 = {\"name\" : \"kuttralees\",\"year\" : 2003}\n",
    "for i in student1.keys():\n",
    "    print(i)"
   ]
  },
  {
   "cell_type": "code",
   "execution_count": 18,
   "id": "296e8b14-5eb0-4f8b-b1e6-b2785d37456d",
   "metadata": {},
   "outputs": [
    {
     "name": "stdout",
     "output_type": "stream",
     "text": [
      "kuttralees\n",
      "2003\n"
     ]
    }
   ],
   "source": [
    "student1 = {\"name\" : \"kuttralees\",\"year\" : 2003}\n",
    "for i in student1.values():\n",
    "    print(i)"
   ]
  },
  {
   "cell_type": "code",
   "execution_count": 21,
   "id": "9acc8228-7147-42cd-b3c4-3bada393b1ce",
   "metadata": {},
   "outputs": [
    {
     "name": "stdin",
     "output_type": "stream",
     "text": [
      "Enter a number: 5\n"
     ]
    },
    {
     "name": "stdout",
     "output_type": "stream",
     "text": [
      "    *\n",
      "   ***\n",
      "  *****\n",
      " *******\n",
      "*********\n"
     ]
    }
   ],
   "source": [
    "n=int(input(\"Enter a number:\"))\n",
    "for i in range(1, n + 1):\n",
    "        for j in range(n - i):\n",
    "            print(\" \", end=\"\")\n",
    "        for k in range(1, 2*i):\n",
    "            print(\"*\", end=\"\")\n",
    "        print()\n",
    "    "
   ]
  },
  {
   "cell_type": "code",
   "execution_count": 22,
   "id": "cd0330f6-fc04-402d-aa18-3f1e57a53ba5",
   "metadata": {},
   "outputs": [
    {
     "name": "stdin",
     "output_type": "stream",
     "text": [
      "Enter a number: 6\n"
     ]
    },
    {
     "name": "stdout",
     "output_type": "stream",
     "text": [
      "     \n",
      "    *\n",
      "   **\n",
      "  ***\n",
      " ****\n",
      "*****\n"
     ]
    }
   ],
   "source": [
    "n=int(input(\"Enter a number:\"))\n",
    "for i in range(1, n + 1):\n",
    "        for j in range(n - i):\n",
    "            print(\" \", end=\"\")\n",
    "        for k in range(1,i):\n",
    "            print(\"*\", end=\"\")\n",
    "        print()\n",
    "    "
   ]
  },
  {
   "cell_type": "code",
   "execution_count": 27,
   "id": "5528dd6d-a4d6-4e61-a664-33157b628acd",
   "metadata": {},
   "outputs": [
    {
     "name": "stdin",
     "output_type": "stream",
     "text": [
      "Enter a number: 4\n"
     ]
    },
    {
     "name": "stdout",
     "output_type": "stream",
     "text": [
      "   \n",
      "*  \n",
      "** \n",
      "***\n"
     ]
    }
   ],
   "source": [
    "n=int(input(\"Enter a number:\"))\n",
    "for i in range(1, n + 1):\n",
    "    for k in range(1,i):\n",
    "        print(\"*\",end=\"\")\n",
    "    for j in range(n - i):\n",
    "        print(\" \",end=\"\")\n",
    "    print()"
   ]
  },
  {
   "cell_type": "code",
   "execution_count": null,
   "id": "7ab5377d-f2ee-41ea-b6b1-e38ed44d5bc7",
   "metadata": {},
   "outputs": [],
   "source": []
  }
 ],
 "metadata": {
  "kernelspec": {
   "display_name": "Python 3 (ipykernel)",
   "language": "python",
   "name": "python3"
  },
  "language_info": {
   "codemirror_mode": {
    "name": "ipython",
    "version": 3
   },
   "file_extension": ".py",
   "mimetype": "text/x-python",
   "name": "python",
   "nbconvert_exporter": "python",
   "pygments_lexer": "ipython3",
   "version": "3.12.4"
  }
 },
 "nbformat": 4,
 "nbformat_minor": 5
}
