{
 "cells": [
  {
   "cell_type": "code",
   "execution_count": 1,
   "id": "4433e7f0-2c84-42cf-82be-202b0190629e",
   "metadata": {},
   "outputs": [],
   "source": [
    "f = open(\"testfile.txt\", \"x\")\n"
   ]
  },
  {
   "cell_type": "code",
   "execution_count": 3,
   "id": "b9d9bb3f-07eb-454f-afea-74a6d55d246d",
   "metadata": {},
   "outputs": [
    {
     "data": {
      "text/plain": [
       "''"
      ]
     },
     "execution_count": 3,
     "metadata": {},
     "output_type": "execute_result"
    }
   ],
   "source": [
    "f = open(\"testfile.txt\", \"r\")\n",
    "f.read()"
   ]
  },
  {
   "cell_type": "code",
   "execution_count": 5,
   "id": "1b1d02b3-8492-4c89-93ce-cda009a99ba5",
   "metadata": {},
   "outputs": [],
   "source": [
    "f = open(\"testfile.txt\", \"w\")\n",
    "f.write(\"vanakkam da mapla python class la irunthu\")\n",
    "f.close()"
   ]
  },
  {
   "cell_type": "code",
   "execution_count": 6,
   "id": "42d33b20-9fb4-46ea-b996-49771514753c",
   "metadata": {},
   "outputs": [
    {
     "data": {
      "text/plain": [
       "'vanakkam da mapla python class la irunthu'"
      ]
     },
     "execution_count": 6,
     "metadata": {},
     "output_type": "execute_result"
    }
   ],
   "source": [
    "f = open(\"testfile.txt\", \"r\")\n",
    "f.read()"
   ]
  },
  {
   "cell_type": "code",
   "execution_count": 8,
   "id": "486abe69-ac72-43bd-9d34-d5b531c4e414",
   "metadata": {},
   "outputs": [],
   "source": [
    "f = open(\"testfile.txt\", \"a\")\n",
    "f.write(\"/n nanthanda da leo Leoooodasssss\")\n",
    "f.close()"
   ]
  },
  {
   "cell_type": "code",
   "execution_count": 9,
   "id": "4a55e52b-5e5d-48a1-8347-c1132d92a656",
   "metadata": {},
   "outputs": [
    {
     "data": {
      "text/plain": [
       "'vanakkam da mapla python class la irunthu/n nanthanda da leo Leoooodasssss/n nanthanda da leo Leoooodasssss'"
      ]
     },
     "execution_count": 9,
     "metadata": {},
     "output_type": "execute_result"
    }
   ],
   "source": [
    "f = open(\"testfile.txt\", \"r\")\n",
    "f.read()"
   ]
  },
  {
   "cell_type": "code",
   "execution_count": null,
   "id": "d8c89e42-445b-4fbf-afcf-f15a46adcb48",
   "metadata": {},
   "outputs": [],
   "source": []
  }
 ],
 "metadata": {
  "kernelspec": {
   "display_name": "Python 3 (ipykernel)",
   "language": "python",
   "name": "python3"
  },
  "language_info": {
   "codemirror_mode": {
    "name": "ipython",
    "version": 3
   },
   "file_extension": ".py",
   "mimetype": "text/x-python",
   "name": "python",
   "nbconvert_exporter": "python",
   "pygments_lexer": "ipython3",
   "version": "3.12.4"
  }
 },
 "nbformat": 4,
 "nbformat_minor": 5
}
