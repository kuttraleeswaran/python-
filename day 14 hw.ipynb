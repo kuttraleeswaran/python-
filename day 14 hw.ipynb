{
 "cells": [
  {
   "cell_type": "code",
   "execution_count": 3,
   "id": "0fbd3249-dfc9-4085-a582-eaf1b0623881",
   "metadata": {},
   "outputs": [
    {
     "name": "stdout",
     "output_type": "stream",
     "text": [
      "Number of occurrences of 'H': 2\n"
     ]
    }
   ],
   "source": [
    "k = \"Hi,HellO,how are you\"\n",
    "\n",
    "count = 0\n",
    "\n",
    "for i in k:\n",
    "    if i == 'H':\n",
    "        count += 1\n",
    "\n",
    "print(\"Number of occurrences of 'H':\", count)"
   ]
  },
  {
   "cell_type": "code",
   "execution_count": 8,
   "id": "36c008ab-45cc-4d39-92c0-86c797112ee4",
   "metadata": {},
   "outputs": [
    {
     "name": "stdout",
     "output_type": "stream",
     "text": [
      "My name is kuttraleeswaran ,i'm 22 years old\n"
     ]
    }
   ],
   "source": [
    "class Person:\n",
    "    def __init__(self, name, age):\n",
    "        self.name = name\n",
    "        self.age = age\n",
    "\n",
    "    def __str__(self):\n",
    "        return f\"My name is {self.name} ,i'm {self.age} years old\"\n",
    "\n",
    "p1 = Person(\"kuttraleeswaran\", 22)\n",
    "print(p1) \n"
   ]
  },
  {
   "cell_type": "code",
   "execution_count": 17,
   "id": "9dcc9050-f08d-4a3e-b8e5-b3d710b02db3",
   "metadata": {},
   "outputs": [
    {
     "name": "stdout",
     "output_type": "stream",
     "text": [
      "Hello my name is John i'm 36.\n"
     ]
    }
   ],
   "source": [
    "class Person:\n",
    "  def __init__(myobject, name, age):\n",
    "    myobject.name = name\n",
    "    myobject.age = age\n",
    "\n",
    "  def myfunc(abc):\n",
    "    return \"Hello my name is \" + abc.name + \" i'm \" + str(abc.age)+\".\"\n",
    "\n",
    "p1 = Person(\"John\", 36)\n",
    "print(p1.myfunc())\n"
   ]
  },
  {
   "cell_type": "code",
   "execution_count": null,
   "id": "8fffd2a4-a1bf-4845-ae4a-3472e394aaea",
   "metadata": {},
   "outputs": [],
   "source": []
  }
 ],
 "metadata": {
  "kernelspec": {
   "display_name": "Python 3 (ipykernel)",
   "language": "python",
   "name": "python3"
  },
  "language_info": {
   "codemirror_mode": {
    "name": "ipython",
    "version": 3
   },
   "file_extension": ".py",
   "mimetype": "text/x-python",
   "name": "python",
   "nbconvert_exporter": "python",
   "pygments_lexer": "ipython3",
   "version": "3.12.4"
  }
 },
 "nbformat": 4,
 "nbformat_minor": 5
}
