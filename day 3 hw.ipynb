{
 "cells": [
  {
   "cell_type": "code",
   "execution_count": 1,
   "id": "388d6c98-273d-48cd-bab9-96f4bef60930",
   "metadata": {},
   "outputs": [
    {
     "name": "stdout",
     "output_type": "stream",
     "text": [
      "_are\n",
      "ou\n",
      "ow_\n",
      "how_are_yo\n"
     ]
    }
   ],
   "source": [
    "s1=\"how_are_you\"\n",
    "print(s1[3:7])\n",
    "print(s1[-2:])\n",
    "print(s1[1:4])\n",
    "print(s1[:-1])"
   ]
  },
  {
   "cell_type": "code",
   "execution_count": null,
   "id": "f183d130-a5f1-44c1-a279-5a0485d87536",
   "metadata": {},
   "outputs": [],
   "source": []
  }
 ],
 "metadata": {
  "kernelspec": {
   "display_name": "Python 3 (ipykernel)",
   "language": "python",
   "name": "python3"
  },
  "language_info": {
   "codemirror_mode": {
    "name": "ipython",
    "version": 3
   },
   "file_extension": ".py",
   "mimetype": "text/x-python",
   "name": "python",
   "nbconvert_exporter": "python",
   "pygments_lexer": "ipython3",
   "version": "3.12.4"
  }
 },
 "nbformat": 4,
 "nbformat_minor": 5
}
