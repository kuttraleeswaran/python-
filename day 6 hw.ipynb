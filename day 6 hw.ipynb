{
 "cells": [
  {
   "cell_type": "code",
   "execution_count": 5,
   "id": "0d1adaba-4bc4-442c-9c88-325267d669ea",
   "metadata": {},
   "outputs": [
    {
     "name": "stdout",
     "output_type": "stream",
     "text": [
      "True\n"
     ]
    }
   ],
   "source": [
    "#logical operator\n",
    "a = 34\n",
    "\n",
    "\n",
    "print(a > 5 and a < 60)"
   ]
  },
  {
   "cell_type": "code",
   "execution_count": 6,
   "id": "0844cd6f-e069-4b46-bc3b-cc029036d9f8",
   "metadata": {},
   "outputs": [
    {
     "name": "stdout",
     "output_type": "stream",
     "text": [
      "False\n"
     ]
    }
   ],
   "source": [
    "print(a > 3 and a < 30)"
   ]
  },
  {
   "cell_type": "code",
   "execution_count": 7,
   "id": "770bcbb5-3e8b-4527-a8ca-dd1757e3cee7",
   "metadata": {},
   "outputs": [
    {
     "name": "stdout",
     "output_type": "stream",
     "text": [
      "True\n"
     ]
    }
   ],
   "source": [
    "print(a > 30 or a < 67)"
   ]
  },
  {
   "cell_type": "code",
   "execution_count": 8,
   "id": "9fa29fee-db11-442c-b255-ebd512834fbd",
   "metadata": {},
   "outputs": [
    {
     "name": "stdout",
     "output_type": "stream",
     "text": [
      "False\n"
     ]
    }
   ],
   "source": [
    "print(not(a > 30 or a < 67))"
   ]
  },
  {
   "cell_type": "code",
   "execution_count": 4,
   "id": "e55651bc-bc44-412d-8e02-4d834912cfef",
   "metadata": {},
   "outputs": [
    {
     "name": "stdout",
     "output_type": "stream",
     "text": [
      "True\n",
      "False\n",
      "True\n",
      "True\n",
      "False\n",
      "False\n",
      "True\n",
      "True\n"
     ]
    }
   ],
   "source": [
    "#identity operator\n",
    "x=[\"kuttra\"]\n",
    "y=[\"kuttra\"]\n",
    "z=x\n",
    "print(x is z)\n",
    "print(x is y)\n",
    "print(x is not y)\n",
    "x1=999\n",
    "y2=999\n",
    "a=255\n",
    "b=255\n",
    "print(a is b)\n",
    "print(x1 is y2)\n",
    "a=257\n",
    "b=257\n",
    "print(a is b)\n",
    "x=\"kuttra\"\n",
    "y=\"kuttra\"\n",
    "z=x\n",
    "print(x is z)\n",
    "print(x is y)"
   ]
  },
  {
   "cell_type": "code",
   "execution_count": 11,
   "id": "dbce5783-d5cf-4d4d-a621-2f635bae57de",
   "metadata": {},
   "outputs": [
    {
     "name": "stdout",
     "output_type": "stream",
     "text": [
      "True\n",
      "False\n",
      "True\n",
      "False\n"
     ]
    }
   ],
   "source": [
    "#membership operator\n",
    "x=\"kuttra\"\n",
    "y=\"kuttra\"\n",
    "z=x\n",
    "print(\"k\" in  z)\n",
    "print(\"s\" in  z)\n",
    "print(\"s\" not in z)\n",
    "print(\"k\" not in z)"
   ]
  },
  {
   "cell_type": "code",
   "execution_count": 15,
   "id": "9ffcaae4-e2ca-47f0-88b3-accc3ec8aaee",
   "metadata": {},
   "outputs": [
    {
     "name": "stdout",
     "output_type": "stream",
     "text": [
      "10\n",
      "54\n",
      "5\n",
      "1006\n"
     ]
    }
   ],
   "source": [
    "#bitwise operator\n",
    "print(11&10)\n",
    "print(22|32)\n",
    "print(77&55)\n",
    "print(654|876)\n",
    "print()"
   ]
  },
  {
   "cell_type": "code",
   "execution_count": null,
   "id": "fae9e04b-18a1-4b16-8115-3a12428f51aa",
   "metadata": {},
   "outputs": [],
   "source": []
  }
 ],
 "metadata": {
  "kernelspec": {
   "display_name": "Python 3 (ipykernel)",
   "language": "python",
   "name": "python3"
  },
  "language_info": {
   "codemirror_mode": {
    "name": "ipython",
    "version": 3
   },
   "file_extension": ".py",
   "mimetype": "text/x-python",
   "name": "python",
   "nbconvert_exporter": "python",
   "pygments_lexer": "ipython3",
   "version": "3.12.4"
  }
 },
 "nbformat": 4,
 "nbformat_minor": 5
}
